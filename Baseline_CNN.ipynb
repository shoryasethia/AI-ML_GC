{
 "cells": [
  {
   "cell_type": "code",
   "execution_count": 1,
   "metadata": {
    "colab": {
     "base_uri": "https://localhost:8080/",
     "height": 35
    },
    "colab_type": "code",
    "id": "HeBr3U9dzBBg",
    "outputId": "e9658d5f-c4d8-478c-ddcf-d687edddd7e5"
   },
   "outputs": [
    {
     "name": "stderr",
     "output_type": "stream",
     "text": [
      "Using TensorFlow backend.\n"
     ]
    }
   ],
   "source": [
    "import numpy as np\n",
    "import pandas as pd\n",
    "from sklearn.model_selection import train_test_split\n",
    "from keras.utils.np_utils import to_categorical # convert to one-hot-encoding\n",
    "\n",
    "from tensorflow.keras.preprocessing.image import ImageDataGenerator\n",
    "from tensorflow.keras import layers\n",
    "from tensorflow.keras import Model\n",
    "from tensorflow.keras.optimizers import Adam\n",
    "from tensorflow.keras.callbacks import ReduceLROnPlateau\n",
    "%matplotlib inline\n",
    "\n",
    "import matplotlib.pyplot as plt"
   ]
  },
  {
   "cell_type": "markdown",
   "metadata": {
    "colab_type": "text",
    "id": "M1BzjwNzUB1T"
   },
   "source": [
    "## Load In the Data"
   ]
  },
  {
   "cell_type": "code",
   "execution_count": 0,
   "metadata": {
    "colab": {},
    "colab_type": "code",
    "id": "F3zhcgJD4lhk"
   },
   "outputs": [],
   "source": [
    "skin_df = pd.read_csv('hmnist_64_64_RGB.csv')"
   ]
  },
  {
   "cell_type": "code",
   "execution_count": 3,
   "metadata": {
    "colab": {
     "base_uri": "https://localhost:8080/",
     "height": 247
    },
    "colab_type": "code",
    "id": "W-viELZ74uN2",
    "outputId": "44f1763e-1b74-4434-e99c-51e295052387"
   },
   "outputs": [
    {
     "data": {
      "text/html": [
       "<div>\n",
       "<style scoped>\n",
       "    .dataframe tbody tr th:only-of-type {\n",
       "        vertical-align: middle;\n",
       "    }\n",
       "\n",
       "    .dataframe tbody tr th {\n",
       "        vertical-align: top;\n",
       "    }\n",
       "\n",
       "    .dataframe thead th {\n",
       "        text-align: right;\n",
       "    }\n",
       "</style>\n",
       "<table border=\"1\" class=\"dataframe\">\n",
       "  <thead>\n",
       "    <tr style=\"text-align: right;\">\n",
       "      <th></th>\n",
       "      <th>pixel0000</th>\n",
       "      <th>pixel0001</th>\n",
       "      <th>pixel0002</th>\n",
       "      <th>pixel0003</th>\n",
       "      <th>pixel0004</th>\n",
       "      <th>pixel0005</th>\n",
       "      <th>pixel0006</th>\n",
       "      <th>pixel0007</th>\n",
       "      <th>pixel0008</th>\n",
       "      <th>pixel0009</th>\n",
       "      <th>...</th>\n",
       "      <th>pixel12279</th>\n",
       "      <th>pixel12280</th>\n",
       "      <th>pixel12281</th>\n",
       "      <th>pixel12282</th>\n",
       "      <th>pixel12283</th>\n",
       "      <th>pixel12284</th>\n",
       "      <th>pixel12285</th>\n",
       "      <th>pixel12286</th>\n",
       "      <th>pixel12287</th>\n",
       "      <th>label</th>\n",
       "    </tr>\n",
       "  </thead>\n",
       "  <tbody>\n",
       "    <tr>\n",
       "      <th>0</th>\n",
       "      <td>191</td>\n",
       "      <td>152</td>\n",
       "      <td>194</td>\n",
       "      <td>191</td>\n",
       "      <td>153</td>\n",
       "      <td>195</td>\n",
       "      <td>192</td>\n",
       "      <td>149</td>\n",
       "      <td>192</td>\n",
       "      <td>194</td>\n",
       "      <td>...</td>\n",
       "      <td>185</td>\n",
       "      <td>154</td>\n",
       "      <td>180</td>\n",
       "      <td>186</td>\n",
       "      <td>156</td>\n",
       "      <td>184</td>\n",
       "      <td>182</td>\n",
       "      <td>152</td>\n",
       "      <td>173</td>\n",
       "      <td>2</td>\n",
       "    </tr>\n",
       "    <tr>\n",
       "      <th>1</th>\n",
       "      <td>24</td>\n",
       "      <td>13</td>\n",
       "      <td>23</td>\n",
       "      <td>24</td>\n",
       "      <td>14</td>\n",
       "      <td>28</td>\n",
       "      <td>37</td>\n",
       "      <td>24</td>\n",
       "      <td>46</td>\n",
       "      <td>61</td>\n",
       "      <td>...</td>\n",
       "      <td>26</td>\n",
       "      <td>15</td>\n",
       "      <td>29</td>\n",
       "      <td>27</td>\n",
       "      <td>15</td>\n",
       "      <td>28</td>\n",
       "      <td>24</td>\n",
       "      <td>13</td>\n",
       "      <td>25</td>\n",
       "      <td>2</td>\n",
       "    </tr>\n",
       "    <tr>\n",
       "      <th>2</th>\n",
       "      <td>185</td>\n",
       "      <td>129</td>\n",
       "      <td>140</td>\n",
       "      <td>192</td>\n",
       "      <td>136</td>\n",
       "      <td>151</td>\n",
       "      <td>198</td>\n",
       "      <td>142</td>\n",
       "      <td>156</td>\n",
       "      <td>198</td>\n",
       "      <td>...</td>\n",
       "      <td>152</td>\n",
       "      <td>120</td>\n",
       "      <td>138</td>\n",
       "      <td>144</td>\n",
       "      <td>113</td>\n",
       "      <td>123</td>\n",
       "      <td>115</td>\n",
       "      <td>81</td>\n",
       "      <td>84</td>\n",
       "      <td>2</td>\n",
       "    </tr>\n",
       "    <tr>\n",
       "      <th>3</th>\n",
       "      <td>24</td>\n",
       "      <td>11</td>\n",
       "      <td>19</td>\n",
       "      <td>36</td>\n",
       "      <td>19</td>\n",
       "      <td>30</td>\n",
       "      <td>64</td>\n",
       "      <td>38</td>\n",
       "      <td>50</td>\n",
       "      <td>91</td>\n",
       "      <td>...</td>\n",
       "      <td>27</td>\n",
       "      <td>13</td>\n",
       "      <td>16</td>\n",
       "      <td>25</td>\n",
       "      <td>12</td>\n",
       "      <td>16</td>\n",
       "      <td>24</td>\n",
       "      <td>9</td>\n",
       "      <td>14</td>\n",
       "      <td>2</td>\n",
       "    </tr>\n",
       "    <tr>\n",
       "      <th>4</th>\n",
       "      <td>138</td>\n",
       "      <td>94</td>\n",
       "      <td>117</td>\n",
       "      <td>158</td>\n",
       "      <td>113</td>\n",
       "      <td>138</td>\n",
       "      <td>178</td>\n",
       "      <td>133</td>\n",
       "      <td>161</td>\n",
       "      <td>191</td>\n",
       "      <td>...</td>\n",
       "      <td>140</td>\n",
       "      <td>106</td>\n",
       "      <td>118</td>\n",
       "      <td>108</td>\n",
       "      <td>77</td>\n",
       "      <td>92</td>\n",
       "      <td>67</td>\n",
       "      <td>40</td>\n",
       "      <td>55</td>\n",
       "      <td>2</td>\n",
       "    </tr>\n",
       "  </tbody>\n",
       "</table>\n",
       "<p>5 rows × 12289 columns</p>\n",
       "</div>"
      ],
      "text/plain": [
       "   pixel0000  pixel0001  pixel0002  pixel0003  pixel0004  pixel0005  \\\n",
       "0        191        152        194        191        153        195   \n",
       "1         24         13         23         24         14         28   \n",
       "2        185        129        140        192        136        151   \n",
       "3         24         11         19         36         19         30   \n",
       "4        138         94        117        158        113        138   \n",
       "\n",
       "   pixel0006  pixel0007  pixel0008  pixel0009  ...    pixel12279  pixel12280  \\\n",
       "0        192        149        192        194  ...           185         154   \n",
       "1         37         24         46         61  ...            26          15   \n",
       "2        198        142        156        198  ...           152         120   \n",
       "3         64         38         50         91  ...            27          13   \n",
       "4        178        133        161        191  ...           140         106   \n",
       "\n",
       "   pixel12281  pixel12282  pixel12283  pixel12284  pixel12285  pixel12286  \\\n",
       "0         180         186         156         184         182         152   \n",
       "1          29          27          15          28          24          13   \n",
       "2         138         144         113         123         115          81   \n",
       "3          16          25          12          16          24           9   \n",
       "4         118         108          77          92          67          40   \n",
       "\n",
       "   pixel12287  label  \n",
       "0         173      2  \n",
       "1          25      2  \n",
       "2          84      2  \n",
       "3          14      2  \n",
       "4          55      2  \n",
       "\n",
       "[5 rows x 12289 columns]"
      ]
     },
     "execution_count": 3,
     "metadata": {
      "tags": []
     },
     "output_type": "execute_result"
    }
   ],
   "source": [
    "skin_df.head()"
   ]
  },
  {
   "cell_type": "code",
   "execution_count": 0,
   "metadata": {
    "colab": {},
    "colab_type": "code",
    "id": "C1psqaTj45AM"
   },
   "outputs": [],
   "source": [
    "X = skin_df.drop(\"label\", axis=1).as_matrix()\n",
    "label = skin_df[\"label\"].values"
   ]
  },
  {
   "cell_type": "code",
   "execution_count": 5,
   "metadata": {
    "colab": {
     "base_uri": "https://localhost:8080/",
     "height": 35
    },
    "colab_type": "code",
    "id": "1e2D7SCz5LQh",
    "outputId": "cb30d359-a2b0-4e0b-c501-6a3288c3ffb5"
   },
   "outputs": [
    {
     "data": {
      "text/plain": [
       "((10015, 12288), (10015,))"
      ]
     },
     "execution_count": 5,
     "metadata": {
      "tags": []
     },
     "output_type": "execute_result"
    }
   ],
   "source": [
    "X.shape, label.shape"
   ]
  },
  {
   "cell_type": "markdown",
   "metadata": {
    "colab_type": "text",
    "id": "E3iU_vSjUIpn"
   },
   "source": [
    "## Scaling and Split Data into Train, Validation and Test set"
   ]
  },
  {
   "cell_type": "code",
   "execution_count": 0,
   "metadata": {
    "colab": {},
    "colab_type": "code",
    "id": "q25NL3-X5jry"
   },
   "outputs": [],
   "source": [
    "X_mean = np.mean(X)\n",
    "X_std = np.std(X)\n",
    "\n",
    "X = (X - X_mean)/X_std"
   ]
  },
  {
   "cell_type": "code",
   "execution_count": 0,
   "metadata": {
    "colab": {},
    "colab_type": "code",
    "id": "oGH8wMmy6Mew"
   },
   "outputs": [],
   "source": [
    "X_train_orig, X_test, y_train_orig, y_test = train_test_split(X, label, test_size=0.1,random_state=0)"
   ]
  },
  {
   "cell_type": "code",
   "execution_count": 8,
   "metadata": {
    "colab": {
     "base_uri": "https://localhost:8080/",
     "height": 35
    },
    "colab_type": "code",
    "id": "hU0BQ6c6B1tu",
    "outputId": "2a213eec-e04a-4bef-fd97-27321013c5a7"
   },
   "outputs": [
    {
     "data": {
      "text/plain": [
       "((9013, 12288), (1002, 12288), (9013,), (1002,))"
      ]
     },
     "execution_count": 8,
     "metadata": {
      "tags": []
     },
     "output_type": "execute_result"
    }
   ],
   "source": [
    "X_train_orig.shape, X_test.shape, y_train_orig.shape, y_test.shape"
   ]
  },
  {
   "cell_type": "code",
   "execution_count": 0,
   "metadata": {
    "colab": {},
    "colab_type": "code",
    "id": "_WzFxSy1ByyY"
   },
   "outputs": [],
   "source": [
    "X_train, X_val, y_train, y_val = train_test_split(X_train_orig, y_train_orig, test_size=0.2, random_state=1)"
   ]
  },
  {
   "cell_type": "code",
   "execution_count": 10,
   "metadata": {
    "colab": {
     "base_uri": "https://localhost:8080/",
     "height": 35
    },
    "colab_type": "code",
    "id": "HiK1KmsMCF5B",
    "outputId": "731610d1-06ec-4df9-c9b5-867bf7a33138"
   },
   "outputs": [
    {
     "data": {
      "text/plain": [
       "((7210, 12288), (1803, 12288), (7210,), (1803,))"
      ]
     },
     "execution_count": 10,
     "metadata": {
      "tags": []
     },
     "output_type": "execute_result"
    }
   ],
   "source": [
    "X_train.shape, X_val.shape, y_train.shape, y_val.shape"
   ]
  },
  {
   "cell_type": "markdown",
   "metadata": {
    "colab_type": "text",
    "id": "4Zl7b9mFURFJ"
   },
   "source": [
    "## Reshape the Data to Input in CNN"
   ]
  },
  {
   "cell_type": "code",
   "execution_count": 0,
   "metadata": {
    "colab": {},
    "colab_type": "code",
    "id": "mdbb6U1W6mx2"
   },
   "outputs": [],
   "source": [
    "X_train = X_train.reshape(X_train.shape[0], *(64, 64, 3))\n",
    "X_val = X_val.reshape(X_val.shape[0], *(64, 64, 3))\n",
    "X_test = X_test.reshape(X_test.shape[0], *(64, 64, 3))"
   ]
  },
  {
   "cell_type": "code",
   "execution_count": 12,
   "metadata": {
    "colab": {
     "base_uri": "https://localhost:8080/",
     "height": 35
    },
    "colab_type": "code",
    "id": "odlh2eEz629K",
    "outputId": "98c81273-d8af-43da-8aa6-eca193a59dbd"
   },
   "outputs": [
    {
     "data": {
      "text/plain": [
       "((7210, 64, 64, 3), (1803, 64, 64, 3), (1002, 64, 64, 3))"
      ]
     },
     "execution_count": 12,
     "metadata": {
      "tags": []
     },
     "output_type": "execute_result"
    }
   ],
   "source": [
    "X_train.shape, X_val.shape, X_test.shape"
   ]
  },
  {
   "cell_type": "code",
   "execution_count": 13,
   "metadata": {
    "colab": {
     "base_uri": "https://localhost:8080/",
     "height": 35
    },
    "colab_type": "code",
    "id": "ToBfm6FCE82c",
    "outputId": "4289e6c7-c7e4-4562-dee2-ecaa11b6815c"
   },
   "outputs": [
    {
     "data": {
      "text/plain": [
       "(7210,)"
      ]
     },
     "execution_count": 13,
     "metadata": {
      "tags": []
     },
     "output_type": "execute_result"
    }
   ],
   "source": [
    "y_train.shape"
   ]
  },
  {
   "cell_type": "code",
   "execution_count": 0,
   "metadata": {
    "colab": {},
    "colab_type": "code",
    "id": "bv1nE9AkBMXJ"
   },
   "outputs": [],
   "source": [
    "y_train = to_categorical(y_train)\n",
    "y_val = to_categorical(y_val)\n",
    "y_test = to_categorical(y_test)"
   ]
  },
  {
   "cell_type": "code",
   "execution_count": 15,
   "metadata": {
    "colab": {
     "base_uri": "https://localhost:8080/",
     "height": 35
    },
    "colab_type": "code",
    "id": "UuRfmdeYCsW5",
    "outputId": "ae8001b5-53a6-4ee9-f3c8-498150246a55"
   },
   "outputs": [
    {
     "data": {
      "text/plain": [
       "((7210, 7), (1803, 7), (1002, 7))"
      ]
     },
     "execution_count": 15,
     "metadata": {
      "tags": []
     },
     "output_type": "execute_result"
    }
   ],
   "source": [
    "y_train.shape, y_val.shape, y_test.shape"
   ]
  },
  {
   "cell_type": "markdown",
   "metadata": {
    "colab_type": "text",
    "id": "5vVaAuWtUVJU"
   },
   "source": [
    "## CNN Model"
   ]
  },
  {
   "cell_type": "code",
   "execution_count": 0,
   "metadata": {
    "colab": {},
    "colab_type": "code",
    "id": "9i2prFW67mwJ"
   },
   "outputs": [],
   "source": [
    "# Our input feature map is 64x64x3: 64x64 for the image pixels, and 3 for\n",
    "# the three color channels: R, G, and B\n",
    "img_input = layers.Input(shape=(64, 64, 3))\n",
    "\n",
    "# First convolution extracts 16 filters that are 3x3\n",
    "# Convolution is followed by max-pooling layer with a 2x2 window\n",
    "x = layers.Conv2D(16, 3, activation='relu', padding='same')(img_input)\n",
    "x = layers.MaxPooling2D(2)(x)\n",
    "\n",
    "# Second convolution extracts 32 filters that are 3x3\n",
    "# Convolution is followed by max-pooling layer with a 2x2 window\n",
    "x = layers.Conv2D(32, 3, activation='relu', padding='same')(x)\n",
    "x = layers.MaxPooling2D(2)(x)\n",
    "\n",
    "# Third convolution extracts 64 filters that are 3x3\n",
    "# Convolution is followed by max-pooling layer with a 2x2 window\n",
    "x = layers.Convolution2D(64, 3, activation='relu', padding='same')(x)\n",
    "x = layers.MaxPooling2D(2)(x)\n",
    "\n",
    "# Flatten feature map to a 1-dim tensor\n",
    "x = layers.Flatten()(x)\n",
    "\n",
    "# Create a fully connected layer with ReLU activation and 512 hidden units\n",
    "x = layers.Dense(512, activation='relu')(x)\n",
    "\n",
    "# Add a dropout rate of 0.5\n",
    "x = layers.Dropout(0.5)(x)\n",
    "\n",
    "# Create output layer with a single node and sigmoid activation\n",
    "output = layers.Dense(7, activation='softmax')(x)\n",
    "\n",
    "# Configure and compile the model\n",
    "model = Model(img_input, output)\n",
    "\n",
    "optimizer = Adam(lr=0.001, beta_1=0.9, beta_2=0.999, epsilon=None, decay=0.0, amsgrad=False)\n",
    "\n",
    "model.compile(loss='categorical_crossentropy', optimizer=optimizer, metrics=['accuracy'])"
   ]
  },
  {
   "cell_type": "code",
   "execution_count": 17,
   "metadata": {
    "colab": {
     "base_uri": "https://localhost:8080/",
     "height": 518
    },
    "colab_type": "code",
    "id": "JXh46jmDA9c6",
    "outputId": "290fa9f9-c12d-4179-e6b5-9126af32f189"
   },
   "outputs": [
    {
     "name": "stdout",
     "output_type": "stream",
     "text": [
      "_________________________________________________________________\n",
      "Layer (type)                 Output Shape              Param #   \n",
      "=================================================================\n",
      "input_1 (InputLayer)         (None, 64, 64, 3)         0         \n",
      "_________________________________________________________________\n",
      "conv2d (Conv2D)              (None, 64, 64, 16)        448       \n",
      "_________________________________________________________________\n",
      "max_pooling2d (MaxPooling2D) (None, 32, 32, 16)        0         \n",
      "_________________________________________________________________\n",
      "conv2d_1 (Conv2D)            (None, 32, 32, 32)        4640      \n",
      "_________________________________________________________________\n",
      "max_pooling2d_1 (MaxPooling2 (None, 16, 16, 32)        0         \n",
      "_________________________________________________________________\n",
      "conv2d_2 (Conv2D)            (None, 16, 16, 64)        18496     \n",
      "_________________________________________________________________\n",
      "max_pooling2d_2 (MaxPooling2 (None, 8, 8, 64)          0         \n",
      "_________________________________________________________________\n",
      "flatten (Flatten)            (None, 4096)              0         \n",
      "_________________________________________________________________\n",
      "dense (Dense)                (None, 512)               2097664   \n",
      "_________________________________________________________________\n",
      "dropout (Dropout)            (None, 512)               0         \n",
      "_________________________________________________________________\n",
      "dense_1 (Dense)              (None, 7)                 3591      \n",
      "=================================================================\n",
      "Total params: 2,124,839\n",
      "Trainable params: 2,124,839\n",
      "Non-trainable params: 0\n",
      "_________________________________________________________________\n"
     ]
    }
   ],
   "source": [
    "model.summary()"
   ]
  },
  {
   "cell_type": "markdown",
   "metadata": {
    "colab_type": "text",
    "id": "fSoYM0JEUbGT"
   },
   "source": [
    "## Define Data Generator for Data Augmentation and Learning Rate Adaptive Reduction to Prevent Overfitting"
   ]
  },
  {
   "cell_type": "code",
   "execution_count": 0,
   "metadata": {
    "colab": {},
    "colab_type": "code",
    "id": "_ITW1SFVFuHk"
   },
   "outputs": [],
   "source": [
    "train_datagen = ImageDataGenerator(rotation_range=40, width_shift_range=0.2, height_shift_range=0.2,\n",
    "                             shear_range=0.2, zoom_range=0.2, horizontal_flip=True, fill_mode='nearest')\n",
    "\n",
    "train_datagen.fit(X_train)\n",
    "\n",
    "val_datagen = ImageDataGenerator()\n",
    "val_datagen.fit(X_val)"
   ]
  },
  {
   "cell_type": "code",
   "execution_count": 0,
   "metadata": {
    "colab": {},
    "colab_type": "code",
    "id": "-FvlOkvw8GJ0"
   },
   "outputs": [],
   "source": [
    "learning_rate_reduction = ReduceLROnPlateau(monitor='val_acc', patience=3, verbose=1, factor=0.5, min_lr=0.00001)"
   ]
  },
  {
   "cell_type": "code",
   "execution_count": 20,
   "metadata": {
    "colab": {
     "base_uri": "https://localhost:8080/",
     "height": 1212
    },
    "colab_type": "code",
    "id": "epgliUU-_EWz",
    "outputId": "52c0a22e-7b64-40d5-ef4f-6ee75685e2af"
   },
   "outputs": [
    {
     "name": "stdout",
     "output_type": "stream",
     "text": [
      "Epoch 1/30\n",
      "112/112 [==============================] - 12s 109ms/step - loss: 0.9876 - acc: 0.6599 - val_loss: 0.9136 - val_acc: 0.6855\n",
      "Epoch 2/30\n",
      "112/112 [==============================] - 11s 97ms/step - loss: 0.8612 - acc: 0.6783 - val_loss: 0.8339 - val_acc: 0.6961\n",
      "Epoch 3/30\n",
      "112/112 [==============================] - 11s 95ms/step - loss: 0.8202 - acc: 0.7005 - val_loss: 0.8119 - val_acc: 0.7011\n",
      "Epoch 4/30\n",
      "112/112 [==============================] - 11s 95ms/step - loss: 0.7888 - acc: 0.7108 - val_loss: 0.7633 - val_acc: 0.7194\n",
      "Epoch 5/30\n",
      "112/112 [==============================] - 11s 94ms/step - loss: 0.7597 - acc: 0.7208 - val_loss: 0.7293 - val_acc: 0.7399\n",
      "Epoch 6/30\n",
      "112/112 [==============================] - 11s 100ms/step - loss: 0.7340 - acc: 0.7290 - val_loss: 0.7348 - val_acc: 0.7293\n",
      "Epoch 7/30\n",
      "112/112 [==============================] - 11s 95ms/step - loss: 0.7110 - acc: 0.7350 - val_loss: 0.7122 - val_acc: 0.7349\n",
      "Epoch 8/30\n",
      "112/112 [==============================] - 11s 94ms/step - loss: 0.7041 - acc: 0.7379 - val_loss: 0.6998 - val_acc: 0.7443\n",
      "Epoch 9/30\n",
      "112/112 [==============================] - 11s 96ms/step - loss: 0.6864 - acc: 0.7462 - val_loss: 0.7064 - val_acc: 0.7321\n",
      "Epoch 10/30\n",
      "112/112 [==============================] - 11s 95ms/step - loss: 0.6867 - acc: 0.7490 - val_loss: 0.7073 - val_acc: 0.7510\n",
      "Epoch 11/30\n",
      "112/112 [==============================] - 12s 110ms/step - loss: 0.6788 - acc: 0.7436 - val_loss: 0.6646 - val_acc: 0.7499\n",
      "Epoch 12/30\n",
      "112/112 [==============================] - 12s 103ms/step - loss: 0.6614 - acc: 0.7557 - val_loss: 0.6614 - val_acc: 0.7482\n",
      "Epoch 13/30\n",
      "111/112 [============================>.] - ETA: 0s - loss: 0.6492 - acc: 0.7566\n",
      "Epoch 00013: ReduceLROnPlateau reducing learning rate to 0.0005000000237487257.\n",
      "112/112 [==============================] - 11s 96ms/step - loss: 0.6499 - acc: 0.7564 - val_loss: 0.6770 - val_acc: 0.7510\n",
      "Epoch 14/30\n",
      "112/112 [==============================] - 14s 127ms/step - loss: 0.6237 - acc: 0.7669 - val_loss: 0.6453 - val_acc: 0.7560\n",
      "Epoch 15/30\n",
      "112/112 [==============================] - 17s 150ms/step - loss: 0.6160 - acc: 0.7717 - val_loss: 0.6691 - val_acc: 0.7560\n",
      "Epoch 16/30\n",
      "112/112 [==============================] - 17s 151ms/step - loss: 0.6173 - acc: 0.7679 - val_loss: 0.6607 - val_acc: 0.7543\n",
      "Epoch 17/30\n",
      "112/112 [==============================] - 17s 150ms/step - loss: 0.6022 - acc: 0.7772 - val_loss: 0.6590 - val_acc: 0.7565\n",
      "Epoch 18/30\n",
      "112/112 [==============================] - 12s 111ms/step - loss: 0.6010 - acc: 0.7746 - val_loss: 0.6218 - val_acc: 0.7682\n",
      "Epoch 19/30\n",
      "112/112 [==============================] - 11s 95ms/step - loss: 0.6021 - acc: 0.7732 - val_loss: 0.6291 - val_acc: 0.7593\n",
      "Epoch 20/30\n",
      "112/112 [==============================] - 11s 95ms/step - loss: 0.5773 - acc: 0.7809 - val_loss: 0.6372 - val_acc: 0.7648\n",
      "Epoch 21/30\n",
      "111/112 [============================>.] - ETA: 0s - loss: 0.5886 - acc: 0.7787\n",
      "Epoch 00021: ReduceLROnPlateau reducing learning rate to 0.0002500000118743628.\n",
      "112/112 [==============================] - 11s 95ms/step - loss: 0.5885 - acc: 0.7791 - val_loss: 0.6596 - val_acc: 0.7526\n",
      "Epoch 22/30\n",
      "112/112 [==============================] - 11s 95ms/step - loss: 0.5776 - acc: 0.7814 - val_loss: 0.6223 - val_acc: 0.7720\n",
      "Epoch 23/30\n",
      "112/112 [==============================] - 11s 95ms/step - loss: 0.5593 - acc: 0.7922 - val_loss: 0.6173 - val_acc: 0.7743\n",
      "Epoch 24/30\n",
      "112/112 [==============================] - 11s 95ms/step - loss: 0.5522 - acc: 0.7934 - val_loss: 0.6154 - val_acc: 0.7726\n",
      "Epoch 25/30\n",
      "112/112 [==============================] - 11s 95ms/step - loss: 0.5600 - acc: 0.7949 - val_loss: 0.6367 - val_acc: 0.7582\n",
      "Epoch 26/30\n",
      "111/112 [============================>.] - ETA: 0s - loss: 0.5487 - acc: 0.7960\n",
      "Epoch 00026: ReduceLROnPlateau reducing learning rate to 0.0001250000059371814.\n",
      "112/112 [==============================] - 11s 95ms/step - loss: 0.5505 - acc: 0.7945 - val_loss: 0.6147 - val_acc: 0.7598\n",
      "Epoch 27/30\n",
      "112/112 [==============================] - 11s 95ms/step - loss: 0.5483 - acc: 0.7887 - val_loss: 0.6117 - val_acc: 0.7787\n",
      "Epoch 28/30\n",
      "112/112 [==============================] - 11s 96ms/step - loss: 0.5421 - acc: 0.7949 - val_loss: 0.6157 - val_acc: 0.7743\n",
      "Epoch 29/30\n",
      "112/112 [==============================] - 11s 95ms/step - loss: 0.5543 - acc: 0.7921 - val_loss: 0.6147 - val_acc: 0.7709\n",
      "Epoch 30/30\n",
      "111/112 [============================>.] - ETA: 0s - loss: 0.5271 - acc: 0.7984\n",
      "Epoch 00030: ReduceLROnPlateau reducing learning rate to 6.25000029685907e-05.\n",
      "112/112 [==============================] - 11s 97ms/step - loss: 0.5263 - acc: 0.7985 - val_loss: 0.6034 - val_acc: 0.7748\n"
     ]
    }
   ],
   "source": [
    "batch_size = 64\n",
    "epochs = 30\n",
    "history = model.fit_generator(train_datagen.flow(X_train,y_train, batch_size=batch_size),\n",
    "                              epochs = epochs, validation_data = val_datagen.flow(X_val, y_val),\n",
    "                              verbose = 1, steps_per_epoch=(X_train.shape[0] // batch_size),\n",
    "                              callbacks=[learning_rate_reduction])"
   ]
  },
  {
   "cell_type": "code",
   "execution_count": 21,
   "metadata": {
    "colab": {
     "base_uri": "https://localhost:8080/",
     "height": 86
    },
    "colab_type": "code",
    "id": "pzmhcKchK3fQ",
    "outputId": "255f9bf8-d123-435d-809f-219c47922e5f"
   },
   "outputs": [
    {
     "name": "stdout",
     "output_type": "stream",
     "text": [
      "1002/1002 [==============================] - 0s 216us/step\n",
      "1803/1803 [==============================] - 0s 187us/step\n",
      "Validation: accuracy = 0.774820  ;  loss_v = 0.603359\n",
      "Test: accuracy = 0.765469  ;  loss = 0.646671\n"
     ]
    }
   ],
   "source": [
    "loss_test, acc_test = model.evaluate(X_test, y_test, verbose=1)\n",
    "loss_val, acc_val = model.evaluate(X_val, y_val, verbose=1)\n",
    "print(\"Validation: accuracy = %f  ;  loss_v = %f\" % (acc_val, loss_val))\n",
    "print(\"Test: accuracy = %f  ;  loss = %f\" % (acc_test, loss_test))\n",
    "model.save(\"model.h5\")"
   ]
  },
  {
   "cell_type": "code",
   "execution_count": 22,
   "metadata": {
    "colab": {
     "base_uri": "https://localhost:8080/",
     "height": 560
    },
    "colab_type": "code",
    "id": "z-XsupKP_orF",
    "outputId": "69099e17-bae9-4886-c0e9-50a0c20be04a"
   },
   "outputs": [
    {
     "data": {
      "text/plain": [
       "Text(0.5,1,'Training and validation loss')"
      ]
     },
     "execution_count": 22,
     "metadata": {
      "tags": []
     },
     "output_type": "execute_result"
    },
    {
     "data": {
      "image/png": "[encoded data removed]",
      "text/plain": [
       "<matplotlib.figure.Figure at 0x7fb4aa1173c8>"
      ]
     },
     "metadata": {
      "tags": []
     },
     "output_type": "display_data"
    },
    {
     "data": {
      "image/png": "[encoded data removed]",
      "text/plain": [
       "<matplotlib.figure.Figure at 0x7fb4ac144898>"
      ]
     },
     "metadata": {
      "tags": []
     },
     "output_type": "display_data"
    }
   ],
   "source": [
    "# Retrieve a list of accuracy results on training and test data\n",
    "# sets for each training epoch\n",
    "acc = history.history['acc']\n",
    "val_acc = history.history['val_acc']\n",
    "\n",
    "# Retrieve a list of list results on training and test data\n",
    "# sets for each training epoch\n",
    "loss = history.history['loss']\n",
    "val_loss = history.history['val_loss']\n",
    "\n",
    "# Get number of epochs\n",
    "epochs = range(len(acc))\n",
    "\n",
    "# Plot training and validation accuracy per epoch\n",
    "plt.plot(epochs, acc)\n",
    "plt.plot(epochs, val_acc)\n",
    "plt.title('Training and validation accuracy')\n",
    "\n",
    "plt.figure()\n",
    "\n",
    "# Plot training and validation loss per epoch\n",
    "plt.plot(epochs, loss)\n",
    "plt.plot(epochs, val_loss)\n",
    "plt.title('Training and validation loss')"
   ]
  },
  {
   "cell_type": "code",
   "execution_count": 0,
   "metadata": {
    "colab": {},
    "colab_type": "code",
    "id": "F3iwk30TLRbu"
   },
   "outputs": [],
   "source": []
  }
 ],
 "metadata": {
  "accelerator": "GPU",
  "colab": {
   "name": "Baseline_CNN.ipynb",
   "provenance": [],
   "version": "0.3.2"
  },
  "kernelspec": {
   "display_name": "Python 3",
   "language": "python",
   "name": "python3"
  },
  "language_info": {
   "codemirror_mode": {
    "name": "ipython",
    "version": 3
   },
   "file_extension": ".py",
   "mimetype": "text/x-python",
   "name": "python",
   "nbconvert_exporter": "python",
   "pygments_lexer": "ipython3",
   "version": "3.6.4"
  }
 },
 "nbformat": 4,
 "nbformat_minor": 1
}
